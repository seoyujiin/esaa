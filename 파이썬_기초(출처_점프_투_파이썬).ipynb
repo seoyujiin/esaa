{
  "nbformat": 4,
  "nbformat_minor": 0,
  "metadata": {
    "colab": {
      "provenance": [],
      "include_colab_link": true
    },
    "kernelspec": {
      "name": "python3",
      "display_name": "Python 3"
    },
    "language_info": {
      "name": "python"
    }
  },
  "cells": [
    {
      "cell_type": "markdown",
      "metadata": {
        "id": "view-in-github",
        "colab_type": "text"
      },
      "source": [
        "<a href=\"https://colab.research.google.com/github/seoyujiin/esaa/blob/main/%ED%8C%8C%EC%9D%B4%EC%8D%AC_%EA%B8%B0%EC%B4%88(%EC%B6%9C%EC%B2%98_%EC%A0%90%ED%94%84_%ED%88%AC_%ED%8C%8C%EC%9D%B4%EC%8D%AC).ipynb\" target=\"_parent\"><img src=\"https://colab.research.google.com/assets/colab-badge.svg\" alt=\"Open In Colab\"/></a>"
      ]
    },
    {
      "cell_type": "markdown",
      "source": [
        "# **자료형**"
      ],
      "metadata": {
        "id": "fd1zwnm-j7B1"
      }
    },
    {
      "cell_type": "markdown",
      "source": [
        "##Q1. 다음 수의 평균을 구하세요.\n",
        "\n",
        "80, 75, 55, 95"
      ],
      "metadata": {
        "id": "jUpWjtvlj9JV"
      }
    },
    {
      "cell_type": "code",
      "source": [
        "A = (80+75+55+95)/4\n",
        "print(A)"
      ],
      "metadata": {
        "id": "YcP79wQgj3bh",
        "colab": {
          "base_uri": "https://localhost:8080/"
        },
        "outputId": "899c604a-f4d3-46a4-c3cf-6451cda263b6"
      },
      "execution_count": 1,
      "outputs": [
        {
          "output_type": "stream",
          "name": "stdout",
          "text": [
            "76.25\n"
          ]
        }
      ]
    },
    {
      "cell_type": "markdown",
      "source": [
        "##Q2. 주민등록번호를 연월일(YYYYMMDD) 부분과 그 뒤의 숫자 부분으로 나누어 출력하세요.\n",
        "홍길동 씨의 주민등록번호는 881120-1068234이다."
      ],
      "metadata": {
        "id": "pHK3T87Zkcte"
      }
    },
    {
      "cell_type": "code",
      "source": [
        "# 답을 작성해주세요\n",
        "id_Hong = \"881120-1068234\"\n",
        "\n",
        "first = id_Hong[:6]\n",
        "second = id_Hong[7:]\n",
        "print(first)\n",
        "print(second)"
      ],
      "metadata": {
        "id": "yZEM63Xok9xi",
        "colab": {
          "base_uri": "https://localhost:8080/"
        },
        "outputId": "ef309683-8de0-403b-d2fd-4598bad264ce"
      },
      "execution_count": 2,
      "outputs": [
        {
          "output_type": "stream",
          "name": "stdout",
          "text": [
            "881120\n",
            "1068234\n"
          ]
        }
      ]
    },
    {
      "cell_type": "markdown",
      "source": [
        "##Q4. 주민등록번호에서 성별을 나타내는 숫자를 출력하세요.\n",
        "주민등록번호 뒷자리의 첫 번째 숫자는 성별을 나타낸다. "
      ],
      "metadata": {
        "id": "WojXUmuslVIS"
      }
    },
    {
      "cell_type": "code",
      "source": [
        "# 답을 작성해주세요\n",
        "id_pin = \"881120-2153468\"\n",
        "\n",
        "a = id_pin[7]\n",
        "print(a)"
      ],
      "metadata": {
        "id": "ZAhDqYOglqZ-",
        "colab": {
          "base_uri": "https://localhost:8080/"
        },
        "outputId": "39264729-168b-4b4f-8f89-8bd3b2f51072"
      },
      "execution_count": 3,
      "outputs": [
        {
          "output_type": "stream",
          "name": "stdout",
          "text": [
            "2\n"
          ]
        }
      ]
    },
    {
      "cell_type": "markdown",
      "source": [
        "##Q5. [1, 3, 5, 4, 2] 리스트를 [5, 4, 3, 2, 1]로 정렬하세요"
      ],
      "metadata": {
        "id": "lbWsPuOEl-y5"
      }
    },
    {
      "cell_type": "code",
      "source": [
        "# 답을 작성해주세요\n",
        "rand_list = [1, 3, 5, 4, 2]\n",
        "\n",
        "rand_list.sort()\n",
        "rand_list.reverse()\n",
        "print(rand_list)"
      ],
      "metadata": {
        "id": "dI2gioTKmnVC",
        "colab": {
          "base_uri": "https://localhost:8080/"
        },
        "outputId": "a263ff56-1829-4189-bbf7-aa34073bdc19"
      },
      "execution_count": 4,
      "outputs": [
        {
          "output_type": "stream",
          "name": "stdout",
          "text": [
            "[5, 4, 3, 2, 1]\n"
          ]
        }
      ]
    },
    {
      "cell_type": "markdown",
      "source": [
        "##Q7. 다음 리스트를 Life is too short 문자열로 만들어 출력하세요"
      ],
      "metadata": {
        "id": "us3I2cpem2bz"
      }
    },
    {
      "cell_type": "code",
      "source": [
        "# 답을 작성해주세요\n",
        "string_list = ['Life', 'is', 'too', 'short']\n",
        "\n",
        "result = ' '.join(string_list)\n",
        "print(result)"
      ],
      "metadata": {
        "id": "G38tHstZnF5s",
        "colab": {
          "base_uri": "https://localhost:8080/"
        },
        "outputId": "983e7ef9-83b6-4a06-e1a0-7ff84b678503"
      },
      "execution_count": 20,
      "outputs": [
        {
          "output_type": "stream",
          "name": "stdout",
          "text": [
            "Life is too short\n"
          ]
        }
      ]
    },
    {
      "cell_type": "markdown",
      "source": [
        "# **제어문**"
      ],
      "metadata": {
        "id": "e4Bbr6rmdnph"
      }
    },
    {
      "cell_type": "markdown",
      "source": [
        "## Q1. 다음 코드의 결과는?\n",
        "```python\n",
        "a = \"Life is too short, you need python\"\n",
        "\n",
        "if \"wife\" in a: print(\"wife\")\n",
        "elif \"python\" in a and \"you\" not in a: print(\"python\")\n",
        "elif \"shirt\" not in a: print(\"shirt\")\n",
        "elif \"need\" in a: print(\"need\")\n",
        "else: print(\"none\")\n",
        "```"
      ],
      "metadata": {
        "id": "sfAPtg9kd1kA"
      }
    },
    {
      "cell_type": "code",
      "execution_count": 6,
      "metadata": {
        "id": "coCD7rBhdgA4",
        "colab": {
          "base_uri": "https://localhost:8080/"
        },
        "outputId": "86c40ec8-03d9-4723-bdc8-7367d6a76b64"
      },
      "outputs": [
        {
          "output_type": "stream",
          "name": "stdout",
          "text": [
            "shirt\n"
          ]
        }
      ],
      "source": [
        "# 답을 작성해주세요\n",
        "a = \"Life is too short, you need python\"\n",
        "\n",
        "if \"wife\" in a: print(\"wife\")\n",
        "elif \"python\" in a and \"you\" not in a: print(\"python\")\n",
        "elif \"shirt\" not in a: print(\"shirt\")\n",
        "elif \"need\" in a: print(\"need\")\n",
        "else: print(\"none\")"
      ]
    },
    {
      "cell_type": "markdown",
      "source": [
        "##Q2. while문을 사용해 1부터 1000까지의 자연수 중 3의 배수의 합을 구하세요"
      ],
      "metadata": {
        "id": "E_lrf3dxeTM9"
      }
    },
    {
      "cell_type": "code",
      "source": [
        "# 답을 작성해주세요\n",
        "# 열 맞추기\n",
        "\n",
        "result = 0\n",
        "n = 1\n",
        "\n",
        "while n <= 1000:\n",
        "  if n%3 == 0 :\n",
        "    result += n \n",
        "  n = n+1\n",
        "\n",
        "print(result)"
      ],
      "metadata": {
        "id": "FnUBJZTCedgs",
        "colab": {
          "base_uri": "https://localhost:8080/"
        },
        "outputId": "0338f056-97eb-4fa9-cc0c-b89175cab897"
      },
      "execution_count": 7,
      "outputs": [
        {
          "output_type": "stream",
          "name": "stdout",
          "text": [
            "166833\n"
          ]
        }
      ]
    },
    {
      "cell_type": "markdown",
      "source": [
        "## Q3. while문을 사용하여 다음과 같이 별(*)을 표시하는 프로그램을 작성하세요"
      ],
      "metadata": {
        "id": "h4XcuXk7ei0B"
      }
    },
    {
      "cell_type": "markdown",
      "source": [
        "![image.png](data:image/png;base64,iVBORw0KGgoAAAANSUhEUgAAAEMAAABbCAYAAAAoTziFAAABTklEQVR4nO3YsQ3DIBgFYZxNzP4zeRVcIV3hwkQYftB9bRrnRFD8jlJKSUoppfSb/QCRGAOMAcYAY0BzjJzzF88RgicDjrf/M55OxHVd3R9optcxqpzzdhGqpp9JDbHrvdF8MnbmBQrGAGOAMcAYYAwwBhgDjAHGAGNA13Fn9Rc4TwZ0GXd2GX66jjurDz/dxp0dhh/HHfACBWOAMcAYYAwwBhgDjAHGAGOAMWDYuLPCC5wnAz4fd5Yafkqj8zy7fxZFU4z6hZ6+2L+fReK4A16gYAwwBhgDjAHGAGOAMcAYYAwwBhgDQixdUVYwTwZMXbrCrWCtA8gXS1eU0Wf60hVpBXPpAi9QMAYYA4wBxgBjgDHAGGAMMAYYA8KPOyOHH08GhB13pgw/re/8o8edkTtH6HFn9PDjuANeoGAMMAYYA4wBxgBjgDHAGGAMuAEai18A1dsRSAAAAABJRU5ErkJggg==)"
      ],
      "metadata": {
        "id": "9vyyoqacDqys"
      }
    },
    {
      "cell_type": "code",
      "source": [
        "# 답을 작성해주세요\n",
        "\n",
        "n = 0\n",
        "while True:\n",
        "  n += 1\n",
        "  if n > 5:\n",
        "    break\n",
        "  print('*' * n)"
      ],
      "metadata": {
        "id": "3Zu5X5vnfM1k",
        "colab": {
          "base_uri": "https://localhost:8080/"
        },
        "outputId": "2e68c8b4-e645-472f-f727-3be590d06649"
      },
      "execution_count": 18,
      "outputs": [
        {
          "output_type": "stream",
          "name": "stdout",
          "text": [
            "*\n",
            "**\n",
            "***\n",
            "****\n",
            "*****\n"
          ]
        }
      ]
    },
    {
      "cell_type": "markdown",
      "source": [
        "## Q4. for문을 사용해 1부터 100까지의 숫자를 출력하세요"
      ],
      "metadata": {
        "id": "uNTYJ3iQfO6c"
      }
    },
    {
      "cell_type": "code",
      "source": [
        "# 답을 작성해주세요\n",
        "\n",
        "for a in range(100):\n",
        "  print(a+1)"
      ],
      "metadata": {
        "id": "haJmxZDAfWJ4",
        "colab": {
          "base_uri": "https://localhost:8080/"
        },
        "outputId": "366357c5-d6df-45a0-8187-417b8ba7e65e"
      },
      "execution_count": 8,
      "outputs": [
        {
          "output_type": "stream",
          "name": "stdout",
          "text": [
            "1\n",
            "2\n",
            "3\n",
            "4\n",
            "5\n",
            "6\n",
            "7\n",
            "8\n",
            "9\n",
            "10\n",
            "11\n",
            "12\n",
            "13\n",
            "14\n",
            "15\n",
            "16\n",
            "17\n",
            "18\n",
            "19\n",
            "20\n",
            "21\n",
            "22\n",
            "23\n",
            "24\n",
            "25\n",
            "26\n",
            "27\n",
            "28\n",
            "29\n",
            "30\n",
            "31\n",
            "32\n",
            "33\n",
            "34\n",
            "35\n",
            "36\n",
            "37\n",
            "38\n",
            "39\n",
            "40\n",
            "41\n",
            "42\n",
            "43\n",
            "44\n",
            "45\n",
            "46\n",
            "47\n",
            "48\n",
            "49\n",
            "50\n",
            "51\n",
            "52\n",
            "53\n",
            "54\n",
            "55\n",
            "56\n",
            "57\n",
            "58\n",
            "59\n",
            "60\n",
            "61\n",
            "62\n",
            "63\n",
            "64\n",
            "65\n",
            "66\n",
            "67\n",
            "68\n",
            "69\n",
            "70\n",
            "71\n",
            "72\n",
            "73\n",
            "74\n",
            "75\n",
            "76\n",
            "77\n",
            "78\n",
            "79\n",
            "80\n",
            "81\n",
            "82\n",
            "83\n",
            "84\n",
            "85\n",
            "86\n",
            "87\n",
            "88\n",
            "89\n",
            "90\n",
            "91\n",
            "92\n",
            "93\n",
            "94\n",
            "95\n",
            "96\n",
            "97\n",
            "98\n",
            "99\n",
            "100\n"
          ]
        }
      ]
    },
    {
      "cell_type": "markdown",
      "source": [
        "##Q5. for문을 사용하여 평균을 구하세요.\n",
        "\n",
        "A 학급에 총 10명의 학생이 있다. 이 학생들의 중간고사 점수는 다음과 같다.\n",
        "\n",
        "[70, 60, 55, 75, 95, 90, 80, 80, 85, 100]"
      ],
      "metadata": {
        "id": "_qOXRe6CfYQP"
      }
    },
    {
      "cell_type": "code",
      "source": [
        "# 답을 작성해주세요\n",
        "\n",
        "A = [70, 60, 55, 75, 95, 90, 80, 80, 85, 100]\n",
        "\n",
        "total = 0\n",
        "for score in A:\n",
        "    total += score   \n",
        "\n",
        "average = total / len(A) \n",
        "print(average) \n",
        "\n",
        "\n",
        "\n",
        "# sum = 0\n",
        "# for i in range(0,len(score)):\n",
        "#   sum = sum + score[i]\n",
        "# print(sum/10)"
      ],
      "metadata": {
        "id": "aSsOy9dNfXpJ",
        "colab": {
          "base_uri": "https://localhost:8080/"
        },
        "outputId": "4febdef0-87fc-44e9-aba4-b175939c5c76"
      },
      "execution_count": 9,
      "outputs": [
        {
          "output_type": "stream",
          "name": "stdout",
          "text": [
            "79.0\n"
          ]
        }
      ]
    },
    {
      "cell_type": "markdown",
      "source": [
        "##Q6. number list에서 홀수에만 2를 곱해 결과를 result에 저장한 후 출력하세요"
      ],
      "metadata": {
        "id": "65dpTuUffy73"
      }
    },
    {
      "cell_type": "code",
      "source": [
        "numbers = [1, 2, 3, 4, 5]\n",
        "result = []\n",
        "\n",
        "for n in numbers:\n",
        "  if n % 2 == 1:\n",
        "    result.append(n*2)\n",
        "\n",
        "print(result)"
      ],
      "metadata": {
        "id": "vxEAtDQ2fyem",
        "colab": {
          "base_uri": "https://localhost:8080/"
        },
        "outputId": "41af6258-d91b-40b5-9a1a-e28d7195b536"
      },
      "execution_count": 10,
      "outputs": [
        {
          "output_type": "stream",
          "name": "stdout",
          "text": [
            "[2, 6, 10]\n"
          ]
        }
      ]
    },
    {
      "cell_type": "markdown",
      "source": [
        "# **함수와 입출력**"
      ],
      "metadata": {
        "id": "2cqJNh90gaLm"
      }
    },
    {
      "cell_type": "markdown",
      "source": [
        "##Q1. 주어진 자연수가 홀수인지 짝수인지 판별하는 함수를 작성하세요"
      ],
      "metadata": {
        "id": "SqFHUlJjgn6v"
      }
    },
    {
      "cell_type": "code",
      "source": [
        "# 답을 작성해주세요\n",
        "def is_odd(a):\n",
        "  if a % 2 == 0:\n",
        "    print(\"짝수\")\n",
        "  else:\n",
        "    print(\"홀수\")\n",
        "\n",
        "is_odd(8)\n",
        "is_odd(9)"
      ],
      "metadata": {
        "id": "rWJTjYVWgZ5Z",
        "colab": {
          "base_uri": "https://localhost:8080/"
        },
        "outputId": "bc271207-926a-4d35-963b-f4391c97a63b"
      },
      "execution_count": 11,
      "outputs": [
        {
          "output_type": "stream",
          "name": "stdout",
          "text": [
            "짝수\n",
            "홀수\n"
          ]
        }
      ]
    },
    {
      "cell_type": "markdown",
      "source": [
        "##Q2. 입력으로 들어오는 모든 수의 평균을 계산해주는 함수를 작성하고 실행하세요\n",
        "(입력으로 들어오는 수의 개수는 랜덤입니다.)"
      ],
      "metadata": {
        "id": "8e3ezwkygx6a"
      }
    },
    {
      "cell_type": "code",
      "source": [
        "# 답을 작성해주세요\n",
        "#  def average_rand(n):\n",
        "#    for i in range(n):\n",
        "#      i = int(input(\"숫자를 입력하세요:\"))\n"
      ],
      "metadata": {
        "id": "tEQJxYVBhDSz",
        "colab": {
          "base_uri": "https://localhost:8080/"
        },
        "outputId": "7fbe42e1-fb65-4e29-ad88-3d77fddc8be8"
      },
      "execution_count": 24,
      "outputs": [
        {
          "output_type": "stream",
          "name": "stdout",
          "text": [
            "3.0\n"
          ]
        }
      ]
    },
    {
      "cell_type": "code",
      "source": [
        "def average_rand(*n):\n",
        "  total=0\n",
        "  for i in n:\n",
        "    total+=i\n",
        "  print(total/len(n))\n",
        "\n",
        "average_rand(1,2,3,4,5)"
      ],
      "metadata": {
        "colab": {
          "base_uri": "https://localhost:8080/"
        },
        "id": "VHYwCOdhISfo",
        "outputId": "29f4c2be-9e2e-4a39-d5fa-8dce64f846b3"
      },
      "execution_count": 25,
      "outputs": [
        {
          "output_type": "stream",
          "name": "stdout",
          "text": [
            "3.0\n"
          ]
        }
      ]
    },
    {
      "cell_type": "markdown",
      "source": [
        "##Q3. 다음 프로그램의 오류를 수정하고 실행하세요"
      ],
      "metadata": {
        "id": "3xumzArZhC65"
      }
    },
    {
      "cell_type": "code",
      "source": [
        "input1 = input(\"첫번째 숫자를 입력하세요:\")\n",
        "input2 = input(\"두번째 숫자를 입력하세요:\")\n",
        "\n",
        "total = input1 + input2\n",
        "print(\"두 수의 합은 %s 입니다\" % total)"
      ],
      "metadata": {
        "colab": {
          "base_uri": "https://localhost:8080/"
        },
        "id": "RTPfNyQJhWfb",
        "outputId": "940e79e3-9b13-4774-b4b4-8a2d4f06a72b"
      },
      "execution_count": 12,
      "outputs": [
        {
          "output_type": "stream",
          "name": "stdout",
          "text": [
            "첫번째 숫자를 입력하세요:1\n",
            "두번째 숫자를 입력하세요:2\n",
            "두 수의 합은 12 입니다\n"
          ]
        }
      ]
    },
    {
      "cell_type": "code",
      "source": [
        "# 수정한 코드를 작성하고 실행하세요\n",
        "input1 = input(\"첫번째 숫자를 입력하세요:\")\n",
        "input2 = input(\"두번째 숫자를 입력하세요:\")\n",
        "\n",
        "total = int(input1) + int(input2)\n",
        "print(\"두 수의 합은 %s 입니다\" % total)"
      ],
      "metadata": {
        "id": "SiaUWWLGhgd9",
        "colab": {
          "base_uri": "https://localhost:8080/"
        },
        "outputId": "484e8815-14b1-443f-a259-df76e9ea4131"
      },
      "execution_count": 13,
      "outputs": [
        {
          "output_type": "stream",
          "name": "stdout",
          "text": [
            "첫번째 숫자를 입력하세요:1\n",
            "두번째 숫자를 입력하세요:2\n",
            "두 수의 합은 3 입니다\n"
          ]
        }
      ]
    },
    {
      "cell_type": "markdown",
      "source": [
        "##Q4. 다음 중 출력 결과가 다른 것 하나를 고르세요\n",
        "\n",
        "1. print(\"you\" \"need\" \"python\")\n",
        "2. print(\"you\"+\"need\"+\"python\")\n",
        "3. print(\"you\", \"need\", \"python\")\n",
        "4. print(\"\".join([\"you\", \"need\", \"python\"]))"
      ],
      "metadata": {
        "id": "5jMWaYmLhf7S"
      }
    },
    {
      "cell_type": "code",
      "source": [
        "# 답을 작성해주세요\n",
        "print(\"you\" \"need\" \"python\")\n",
        "print(\"you\"+\"need\"+\"python\")\n",
        "print(\"you\", \"need\", \"python\")\n",
        "print(\"\".join([\"you\", \"need\", \"python\"]))\n",
        "\n",
        "# 3번만 다름름"
      ],
      "metadata": {
        "id": "iYs2JHAnh92c",
        "colab": {
          "base_uri": "https://localhost:8080/"
        },
        "outputId": "855baef9-d514-46f8-de29-fa9f8030e481"
      },
      "execution_count": 14,
      "outputs": [
        {
          "output_type": "stream",
          "name": "stdout",
          "text": [
            "youneedpython\n",
            "youneedpython\n",
            "you need python\n",
            "youneedpython\n"
          ]
        }
      ]
    },
    {
      "cell_type": "code",
      "source": [],
      "metadata": {
        "id": "MM-5hUBmIVOF"
      },
      "execution_count": null,
      "outputs": []
    }
  ]
}